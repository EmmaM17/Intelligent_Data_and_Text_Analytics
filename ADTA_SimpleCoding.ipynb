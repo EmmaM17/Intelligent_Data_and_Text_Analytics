{
 "cells": [
  {
   "cell_type": "code",
   "execution_count": null,
   "id": "f67e893e-9355-49cd-8183-43121e564db7",
   "metadata": {},
   "outputs": [],
   "source": [
    "# EXERCISE 5"
   ]
  },
  {
   "cell_type": "code",
   "execution_count": 15,
   "id": "d3e3e90c-2ec0-41eb-8bb9-222a54a5e6b4",
   "metadata": {},
   "outputs": [
    {
     "name": "stdout",
     "output_type": "stream",
     "text": [
      "numbers from list divisible by 5: \n",
      "5\n",
      "20\n",
      "25\n",
      "30\n"
     ]
    }
   ],
   "source": [
    "def divByFive():\n",
    "    myList = [ 5, 12, 17, 20, 21, 25, 27, 30]\n",
    "    print('numbers from list divisible by 5: ')\n",
    "    for num in myList:\n",
    "        if num % 5 == 0:\n",
    "            print(num)\n",
    "divByFive()"
   ]
  },
  {
   "cell_type": "code",
   "execution_count": null,
   "id": "d94c021b-a660-46d0-b733-ec7fac4763cd",
   "metadata": {},
   "outputs": [],
   "source": [
    "# EXERCISE 6"
   ]
  },
  {
   "cell_type": "code",
   "execution_count": 33,
   "id": "ac2c6c15-40e1-48a1-838c-c7930e947c63",
   "metadata": {},
   "outputs": [
    {
     "name": "stdout",
     "output_type": "stream",
     "text": [
      "\n",
      "1 \n",
      "2 2 \n",
      "3 3 3 \n",
      "4 4 4 4 \n",
      "5 5 5 5 5 \n"
     ]
    }
   ],
   "source": [
    "def pattern():\n",
    "    for i in range(6):\n",
    "        \n",
    "        print((str(i)+ ' ') * i)\n",
    "\n",
    "pattern()"
   ]
  },
  {
   "cell_type": "code",
   "execution_count": null,
   "id": "c5384a31-0581-4057-b895-9a4f94600cce",
   "metadata": {},
   "outputs": [],
   "source": [
    "# EXERCISE 7"
   ]
  },
  {
   "cell_type": "code",
   "execution_count": 41,
   "id": "d8f630e6-0d7b-4841-beff-e6a6300fd648",
   "metadata": {},
   "outputs": [
    {
     "name": "stdout",
     "output_type": "stream",
     "text": [
      "first and last from list:  London Southampton\n"
     ]
    }
   ],
   "source": [
    "city_list = [\"London\", \"Manchester\", \"Portsmouth\", \"Southampton\"]\n",
    "print('first and last from list: ', city_list[0], city_list[-1])"
   ]
  },
  {
   "cell_type": "code",
   "execution_count": null,
   "id": "25d73d93-48bf-4f09-83a6-f34ffd31cb02",
   "metadata": {},
   "outputs": [],
   "source": [
    "# EXERCISE 8"
   ]
  },
  {
   "cell_type": "code",
   "execution_count": 39,
   "id": "122fc1a4-3e2d-4cf8-943d-b1d66debfb28",
   "metadata": {},
   "outputs": [
    {
     "name": "stdout",
     "output_type": "stream",
     "text": [
      "2nd and 3rd from list:  Manchester Portsmouth\n"
     ]
    }
   ],
   "source": [
    "print('2nd and 3rd from list: ', city_list[1], city_list[2])"
   ]
  },
  {
   "cell_type": "code",
   "execution_count": null,
   "id": "c89c4fde-e092-468f-b130-fdf49784237b",
   "metadata": {},
   "outputs": [],
   "source": [
    "# EXERCISE 9"
   ]
  },
  {
   "cell_type": "code",
   "execution_count": 91,
   "id": "e11126d7-bf48-4852-9ad0-d0ee832254e5",
   "metadata": {},
   "outputs": [
    {
     "name": "stdin",
     "output_type": "stream",
     "text": [
      "Please enter a number 5\n"
     ]
    },
    {
     "name": "stdout",
     "output_type": "stream",
     "text": [
      "1 2 3 4 5\n",
      "2 4 6 8 10\n",
      "3 6 9 12 15\n",
      "4 8 12 16 20\n",
      "5 10 15 20 25\n"
     ]
    }
   ],
   "source": [
    "def timesTable(num):\n",
    "    for i in range(num):\n",
    "        l = []\n",
    "        for j in range(num):\n",
    "            l.append((i+1)*(j+1))\n",
    "        print(' '.join(map(str,l))) \n",
    "            \n",
    "num = int(input('Please enter a number'))\n",
    "timesTable(num)"
   ]
  },
  {
   "cell_type": "code",
   "execution_count": null,
   "id": "ceacdf50-b08f-41dd-8963-e9cec293cd39",
   "metadata": {},
   "outputs": [],
   "source": [
    "# EXERCISE 10"
   ]
  },
  {
   "cell_type": "code",
   "execution_count": 122,
   "id": "e20f25e3-e685-410f-9543-93318fb7acb6",
   "metadata": {},
   "outputs": [
    {
     "name": "stdout",
     "output_type": "stream",
     "text": [
      "Number of times the appears:  2\n"
     ]
    }
   ],
   "source": [
    "string = 'The longest river in the world is the Nile.'\n",
    "substring = 'the'\n",
    "string = string.split()\n",
    "count = 0\n",
    "for i in string:\n",
    "    if i == substring:\n",
    "        count = count + 1    \n",
    "print('Number of times the appears: ', count)\n",
    "    \n"
   ]
  },
  {
   "cell_type": "code",
   "execution_count": null,
   "id": "7a8c753a-82f4-4f45-bc34-077cf7fe2cbc",
   "metadata": {},
   "outputs": [],
   "source": []
  },
  {
   "cell_type": "code",
   "execution_count": null,
   "id": "83fdc5e3-1525-4045-80b9-a44d7dd2c040",
   "metadata": {},
   "outputs": [],
   "source": []
  }
 ],
 "metadata": {
  "kernelspec": {
   "display_name": "Python 3 (ipykernel)",
   "language": "python",
   "name": "python3"
  },
  "language_info": {
   "codemirror_mode": {
    "name": "ipython",
    "version": 3
   },
   "file_extension": ".py",
   "mimetype": "text/x-python",
   "name": "python",
   "nbconvert_exporter": "python",
   "pygments_lexer": "ipython3",
   "version": "3.12.4"
  }
 },
 "nbformat": 4,
 "nbformat_minor": 5
}
