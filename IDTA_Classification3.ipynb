{
 "cells": [
  {
   "cell_type": "code",
   "execution_count": 1,
   "id": "16ab9cb7-93bb-483b-b6f3-62ca6c34acd7",
   "metadata": {},
   "outputs": [],
   "source": [
    "import numpy as np\n",
    "import pandas as pd"
   ]
  },
  {
   "cell_type": "code",
   "execution_count": 5,
   "id": "825b08c5-3536-44ab-a000-20620c8f00d4",
   "metadata": {},
   "outputs": [],
   "source": [
    "adult = pd.read_csv(\"Downloads/Chrome Downloads/adult_num.csv\")"
   ]
  },
  {
   "cell_type": "code",
   "execution_count": 7,
   "id": "cc2940cb-6672-471d-b137-2ae30d3b1b97",
   "metadata": {},
   "outputs": [],
   "source": [
    "x = adult.iloc[:, :-1]\n",
    "y = adult.iloc[:,-1].values"
   ]
  },
  {
   "cell_type": "markdown",
   "id": "d0d1b21c-59d8-4505-a399-0c78519596fd",
   "metadata": {},
   "source": [
    "# BAGGING"
   ]
  },
  {
   "cell_type": "code",
   "execution_count": 18,
   "id": "0ecbe507-d40f-49d2-94b3-3d9219280100",
   "metadata": {},
   "outputs": [],
   "source": [
    "from sklearn.model_selection import train_test_split\n",
    "x_train, x_test, y_train, y_test = train_test_split(x,y, test_size=0.25, random_state = 0)"
   ]
  },
  {
   "cell_type": "code",
   "execution_count": 20,
   "id": "78a218ea-ad83-408e-974c-82a573eaaa18",
   "metadata": {},
   "outputs": [
    {
     "name": "stdout",
     "output_type": "stream",
     "text": [
      "[[5750  409]\n",
      " [ 853 1129]] \n",
      "\n",
      "Mean Absolute Error: 0.15501781107971993\n",
      "Mean Squared Error: 0.15501781107971993\n",
      "Root Mean Squared Error: 0.39372301314467245 \n",
      "\n",
      "              precision    recall  f1-score   support\n",
      "\n",
      "           0       0.87      0.93      0.90      6159\n",
      "           1       0.73      0.57      0.64      1982\n",
      "\n",
      "    accuracy                           0.84      8141\n",
      "   macro avg       0.80      0.75      0.77      8141\n",
      "weighted avg       0.84      0.84      0.84      8141\n",
      "\n",
      "Accuracy: 0.8449821889202801\n",
      "AUC: 0.7516098777616834\n"
     ]
    }
   ],
   "source": [
    "#import bagging\n",
    "from sklearn.ensemble import BaggingClassifier\n",
    "\n",
    "#import classifier\n",
    "from sklearn.tree import DecisionTreeClassifier\n",
    "from sklearn.svm import SVC\n",
    "\n",
    "#initialise classifier - the default is decision tree\n",
    "BC = BaggingClassifier(n_estimators=10, random_state= 0)\n",
    "\n",
    "#fit the classifier to the data\n",
    "BC.fit(x_train, y_train)\n",
    "\n",
    "#predict the values for the test set\n",
    "y_pred = BC.predict(x_test)\n",
    "\n",
    "#performance metrics\n",
    "from sklearn import metrics\n",
    "from sklearn.metrics import accuracy_score, confusion_matrix, classification_report, roc_auc_score\n",
    "\n",
    "print(confusion_matrix(y_test, y_pred), '\\n')\n",
    "print('Mean Absolute Error:', metrics.mean_absolute_error(y_test, y_pred))\n",
    "print('Mean Squared Error:', metrics.mean_squared_error(y_test, y_pred))\n",
    "print('Root Mean Squared Error:', np.sqrt(metrics.mean_squared_error(y_test, y_pred)), '\\n')\n",
    "\n",
    "print(classification_report(y_test, y_pred))\n",
    "print(\"Accuracy:\", accuracy_score(y_test, y_pred))\n",
    "print(\"AUC:\", roc_auc_score(y_test, y_pred))"
   ]
  },
  {
   "cell_type": "markdown",
   "id": "5c3d8f92-8266-4472-993f-d4523cb8f499",
   "metadata": {},
   "source": [
    "# RANDOM FOREST"
   ]
  },
  {
   "cell_type": "code",
   "execution_count": 23,
   "id": "cba960ab-58a5-481e-828d-82d552e69180",
   "metadata": {},
   "outputs": [
    {
     "name": "stdout",
     "output_type": "stream",
     "text": [
      "[[5736  423]\n",
      " [ 760 1222]] \n",
      "\n",
      "Mean Absolute Error: 0.14531384350816853\n",
      "Mean Squared Error: 0.14531384350816853\n",
      "Root Mean Squared Error: 0.3812005292600845 \n",
      "\n",
      "              precision    recall  f1-score   support\n",
      "\n",
      "           0       0.88      0.93      0.91      6159\n",
      "           1       0.74      0.62      0.67      1982\n",
      "\n",
      "    accuracy                           0.85      8141\n",
      "   macro avg       0.81      0.77      0.79      8141\n",
      "weighted avg       0.85      0.85      0.85      8141\n",
      "\n",
      "Accuracy: 0.8546861564918314\n",
      "AUC: 0.77393447997393\n"
     ]
    }
   ],
   "source": [
    "from sklearn.ensemble import RandomForestClassifier\n",
    "\n",
    "#initialise classifier\n",
    "\n",
    "RF = RandomForestClassifier(random_state = 0)\n",
    "\n",
    "#fit classifier\n",
    "RF.fit(x_train, y_train)\n",
    "\n",
    "#predict \n",
    "y_pred = RF.predict(x_test)\n",
    "\n",
    "#performance metrics\n",
    "\n",
    "print(confusion_matrix(y_test, y_pred), '\\n')\n",
    "print('Mean Absolute Error:', metrics.mean_absolute_error(y_test, y_pred))\n",
    "print('Mean Squared Error:', metrics.mean_squared_error(y_test, y_pred))\n",
    "print('Root Mean Squared Error:', np.sqrt(metrics.mean_squared_error(y_test, y_pred)), '\\n')\n",
    "\n",
    "print(classification_report(y_test, y_pred))\n",
    "print(\"Accuracy:\", accuracy_score(y_test, y_pred))\n",
    "print(\"AUC:\", roc_auc_score(y_test, y_pred))"
   ]
  },
  {
   "cell_type": "markdown",
   "id": "373db50d-0a1b-4374-9920-5e2fa86ff092",
   "metadata": {},
   "source": [
    "# BOOSTING"
   ]
  },
  {
   "cell_type": "code",
   "execution_count": 26,
   "id": "cb97fd33-0791-430a-be3f-dd4689bc497b",
   "metadata": {},
   "outputs": [
    {
     "name": "stderr",
     "output_type": "stream",
     "text": [
      "C:\\ProgramData\\anaconda3\\Lib\\site-packages\\sklearn\\ensemble\\_weight_boosting.py:519: FutureWarning: The SAMME.R algorithm (the default) is deprecated and will be removed in 1.6. Use the SAMME algorithm to circumvent this warning.\n",
      "  warnings.warn(\n"
     ]
    },
    {
     "name": "stdout",
     "output_type": "stream",
     "text": [
      "[[5774  385]\n",
      " [ 746 1236]] \n",
      "\n",
      "Mean Absolute Error: 0.13892642181550177\n",
      "Mean Squared Error: 0.13892642181550177\n",
      "Root Mean Squared Error: 0.37272834855361053 \n",
      "\n",
      "              precision    recall  f1-score   support\n",
      "\n",
      "           0       0.89      0.94      0.91      6159\n",
      "           1       0.76      0.62      0.69      1982\n",
      "\n",
      "    accuracy                           0.86      8141\n",
      "   macro avg       0.82      0.78      0.80      8141\n",
      "weighted avg       0.86      0.86      0.86      8141\n",
      "\n",
      "Accuracy: 0.8610735781844983\n",
      "AUC: 0.7805511824311316\n"
     ]
    }
   ],
   "source": [
    "from sklearn.ensemble import AdaBoostClassifier\n",
    "\n",
    "#initialise\n",
    "AB = AdaBoostClassifier(n_estimators = 100, random_state = 0) #n_estimators is the number of weak learners to train\n",
    "\n",
    "#fit\n",
    "AB.fit(x_train, y_train)\n",
    "\n",
    "#predict\n",
    "y_pred = AB.predict(x_test)\n",
    "\n",
    "#performance\n",
    "print(confusion_matrix(y_test, y_pred), '\\n')\n",
    "print('Mean Absolute Error:', metrics.mean_absolute_error(y_test, y_pred))\n",
    "print('Mean Squared Error:', metrics.mean_squared_error(y_test, y_pred))\n",
    "print('Root Mean Squared Error:', np.sqrt(metrics.mean_squared_error(y_test, y_pred)), '\\n')\n",
    "\n",
    "print(classification_report(y_test, y_pred))\n",
    "print(\"Accuracy:\", accuracy_score(y_test, y_pred))\n",
    "print(\"AUC:\", roc_auc_score(y_test, y_pred))"
   ]
  },
  {
   "cell_type": "code",
   "execution_count": null,
   "id": "f970dad2-4c5f-471b-9d50-f0b8071a9465",
   "metadata": {},
   "outputs": [],
   "source": []
  }
 ],
 "metadata": {
  "kernelspec": {
   "display_name": "Python 3 (ipykernel)",
   "language": "python",
   "name": "python3"
  },
  "language_info": {
   "codemirror_mode": {
    "name": "ipython",
    "version": 3
   },
   "file_extension": ".py",
   "mimetype": "text/x-python",
   "name": "python",
   "nbconvert_exporter": "python",
   "pygments_lexer": "ipython3",
   "version": "3.12.4"
  }
 },
 "nbformat": 4,
 "nbformat_minor": 5
}
